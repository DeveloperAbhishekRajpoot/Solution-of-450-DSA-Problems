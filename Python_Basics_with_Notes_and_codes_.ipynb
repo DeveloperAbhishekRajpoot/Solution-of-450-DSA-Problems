{
  "nbformat": 4,
  "nbformat_minor": 0,
  "metadata": {
    "colab": {
      "provenance": [],
      "collapsed_sections": [
        "ViDNDN-8JNtO",
        "x5KTYdvnOjzW",
        "-mxjjWghVRLb"
      ],
      "authorship_tag": "ABX9TyNjWc/n+s568vVsMYTGBesu",
      "include_colab_link": true
    },
    "kernelspec": {
      "name": "python3",
      "display_name": "Python 3"
    },
    "language_info": {
      "name": "python"
    }
  },
  "cells": [
    {
      "cell_type": "markdown",
      "metadata": {
        "id": "view-in-github",
        "colab_type": "text"
      },
      "source": [
        "<a href=\"https://colab.research.google.com/github/DeveloperAbhishekRajpoot/Solution-of-450-DSA-Problems/blob/main/Python_Basics_with_Notes_and_codes_.ipynb\" target=\"_parent\"><img src=\"https://colab.research.google.com/assets/colab-badge.svg\" alt=\"Open In Colab\"/></a>"
      ]
    },
    {
      "cell_type": "markdown",
      "source": [
        "#Python data types\n",
        "Iteger, Float, String, Boolean, List, Tuple, Dictionary, Set..\n"
      ],
      "metadata": {
        "id": "ViDNDN-8JNtO"
      }
    },
    {
      "cell_type": "code",
      "execution_count": null,
      "metadata": {
        "id": "01Gu8VumKL-2"
      },
      "outputs": [],
      "source": [
        "# Integer\n",
        "integer = 10\n",
        "print(type(integer))  # Output: <class 'int'>\n",
        "# Notes: Integers represent whole numbers without decimals.\n",
        "\n",
        "# Float\n",
        "float_num = 3.14\n",
        "print(type(float_num))  # Output: <class 'float'>\n",
        "# Notes: Floats represent numbers with decimal points.\n",
        "\n",
        "# String\n",
        "string = \"Hello, world!\"\n",
        "print(type(string))  # Output: <class 'str'>\n",
        "# Notes: Strings represent sequences of characters enclosed in single or double quotes.\n",
        "\n",
        "# Boolean\n",
        "boolean = True\n",
        "print(type(boolean))  # Output: <class 'bool'>\n",
        "# Notes: Booleans represent truth values (True or False).\n",
        "\n",
        "# List\n",
        "my_list = [1, 2, 3, \"apple\", \"banana\"]\n",
        "print(type(my_list))  # Output: <class 'list'>\n",
        "# Notes: Lists are ordered, mutable collections of items.\n",
        "\n",
        "# Tuple\n",
        "my_tuple = (1, 2, 3, \"apple\", \"banana\")\n",
        "print(type(my_tuple))  # Output: <class 'tuple'>\n",
        "# Notes: Tuples are ordered, immutable collections of items.\n",
        "\n",
        "# Dictionary\n",
        "my_dict = {\"name\": \"Alice\", \"age\": 30, \"city\": \"New York\"}\n",
        "print(type(my_dict))  # Output: <class 'dict'>\n",
        "# Notes: Dictionaries store key-value pairs.\n",
        "\n",
        "# Set\n",
        "my_set = {1, 2, 3, 4, 5}\n",
        "print(type(my_set))  # Output: <class 'set'>\n",
        "# Notes: Sets are unordered collections of unique items."
      ]
    },
    {
      "cell_type": "markdown",
      "source": [
        "# Python Lists\n",
        "\n",
        "## Introduction\n",
        "\n",
        "A list in Python is a collection of items, which can be of different data types, enclosed in square brackets `[]`. Lists are ordered, mutable (changeable), and allow duplicate elements.\n",
        "\n",
        "## ways to create lists\n",
        "\n",
        "1. lst = []\n",
        "2. lst = [1,2,3,4,5]\n",
        "3. lst = [1,\"hello\",5.6, true]\n",
        "4. lst = [1,2,3,[5,6,7],\"hello\"]\n",
        "\n",
        "## List Methods\n",
        "\n",
        "Python provides many built-in methods for list manipulation, such as:\n",
        "\n",
        "*   `len()`: Returns the length of the list.\n",
        "*   `sort()`: Sorts the list in ascending order (inplace).\n",
        "*   `reverse()`: Reverses the order of elements in the list.\n",
        "*   `index()`: Returns the index of the first occurrence of an element.\n",
        "*   `count()`: Returns the number of times an element appears in the list.\n",
        "*   `remove()`: Removes the first occurence of the provided input .\n",
        "*   `pop()`: Removes the element at index at i , default(last) .\n",
        "\n",
        "\n",
        "## Iterating Through Lists\n",
        "\n",
        "You can use loops to iterate through list elements."
      ],
      "metadata": {
        "id": "x5KTYdvnOjzW"
      }
    },
    {
      "cell_type": "code",
      "source": [
        "# All the methodes given below makes the changes in the original list\n",
        "lst = [1,2,3,4,5,7,0,10,9]\n",
        "print(lst)\n",
        "print(len(lst))\n",
        "\n",
        "#sort\n",
        "lst.sort()\n",
        "print(lst)\n",
        "\n",
        "#Reverse\n",
        "lst.reverse()\n",
        "print(lst)\n",
        "\n",
        "#index\n",
        "print(lst.index(10))\n",
        "\n",
        "#count\n",
        "print(lst.count(10))\n",
        "\n",
        "#remove\n",
        "lst.remove(10)\n",
        "print(lst)\n"
      ],
      "metadata": {
        "id": "8FKq2DE_Ou8G",
        "colab": {
          "base_uri": "https://localhost:8080/"
        },
        "outputId": "a4342af1-5c5f-44a7-b7f8-e9dadc196c4c"
      },
      "execution_count": null,
      "outputs": [
        {
          "output_type": "stream",
          "name": "stdout",
          "text": [
            "[1, 2, 3, 4, 5, 7, 0, 10, 9]\n",
            "9\n",
            "[0, 1, 2, 3, 4, 5, 7, 9, 10]\n",
            "[10, 9, 7, 5, 4, 3, 2, 1, 0]\n",
            "0\n",
            "1\n",
            "[9, 7, 5, 4, 3, 2, 1, 0]\n"
          ]
        }
      ]
    },
    {
      "cell_type": "markdown",
      "source": [
        "# Python Tuples 🐍\n",
        "\n",
        "## What is a Tuple?\n",
        "A **tuple** is an **ordered, immutable** collection in Python. Once created, elements cannot be changed.\n",
        "\n",
        "#Applications\n",
        "  1.Storing Constant data\n",
        "\n",
        "  2.Dictionary keys\n",
        "  \n",
        "  3.Memory Efficiency (faster and requires less memory to store data than list)\n",
        "\n",
        "#Methodes\n",
        "  All the methodes mentioned in lists above can be used to the tuples .\n",
        "  Ex- len() , sort() , reverse() , index() , count() but the remove is not exists in the tuples due to the immutablilty of the tuples.\n"
      ],
      "metadata": {
        "id": "-mxjjWghVRLb"
      }
    },
    {
      "cell_type": "code",
      "source": [
        "# Creating a sample tuple\n",
        "my_tuple = (1, 2, 3, 4, 2, 5, 2, \"hello\", 5.6, True)\n",
        "\n",
        "# Using count() method\n",
        "count_2 = my_tuple.count(2)  # Counts occurrences of 2\n",
        "print(\"Count of 2 in tuple:\", count_2)  # Output: 3\n",
        "\n",
        "# Using index() method\n",
        "index_hello = my_tuple.index(\"hello\")  # Finds index of \"hello\"\n",
        "print(\"Index of 'hello':\", index_hello)  # Output: 7\n",
        "\n",
        "# Finding index with a specific range\n",
        "index_2 = my_tuple.index(2, 2, 6)  # Searches for 2 between index 2 and 6\n",
        "print(\"Index of 2 (from index 2 to 6):\", index_2)  # Output: 4\n",
        "\n",
        "# Trying to modify a tuple (will cause an error)\n",
        "try:\n",
        "    my_tuple[0] = 10  # Tuples are immutable\n",
        "except TypeError as e:\n",
        "    print(\"Error:\", e)  # Output: 'tuple' object does not support item assignment\n",
        "\n",
        "# Concatenation (creates a new tuple)\n",
        "new_tuple = my_tuple + (100, 200)\n",
        "print(\"Concatenated Tuple:\", new_tuple)\n",
        "\n",
        "# Repeating a tuple\n",
        "repeated_tuple = my_tuple * 2\n",
        "print(\"Repeated Tuple:\", repeated_tuple)\n",
        "\n",
        "# Tuple slicing\n",
        "sliced_tuple = my_tuple[1:5]\n",
        "print(\"Sliced Tuple (1 to 5):\", sliced_tuple)\n",
        "\n",
        "# Checking membership\n",
        "print(\"Is 5 in tuple?\", 5 in my_tuple)  # Output: True\n",
        "print(\"Is 'Python' in tuple?\", \"Python\" in my_tuple)  # Output: False\n"
      ],
      "metadata": {
        "id": "-B2gdKcgUGsg"
      },
      "execution_count": null,
      "outputs": []
    },
    {
      "cell_type": "markdown",
      "source": [
        "# 📌 Python `random` Module\n",
        "\n",
        "The `random` module provides functions to generate random numbers, shuffle sequences, and perform random selections.\n",
        "\n",
        "###Methodes in random module\n",
        "🔹 Generate a Random Float (0.0 to 1.0)\n",
        "\n",
        "\n"
      ],
      "metadata": {
        "id": "A0vR3Z7fdHps"
      }
    },
    {
      "cell_type": "code",
      "source": [
        "import random\n",
        "random.random()  # Returns a float between 0.0 and 1.0\n"
      ],
      "metadata": {
        "id": "W59eFeHekdUv"
      },
      "execution_count": null,
      "outputs": []
    },
    {
      "cell_type": "markdown",
      "source": [
        "🔹 Generate a Random Float in a Specific Range"
      ],
      "metadata": {
        "id": "kLgLPUSHlq4i"
      }
    },
    {
      "cell_type": "markdown",
      "source": [
        "🔹 Generate a Random Integer"
      ],
      "metadata": {
        "id": "nOli3OcGl3_K"
      }
    },
    {
      "cell_type": "code",
      "source": [
        "random.randint(1, 10)  # Returns an integer between 1 and 10 (inclusive)\n"
      ],
      "metadata": {
        "id": "Fo9ZWGMHl8aw"
      },
      "execution_count": null,
      "outputs": []
    },
    {
      "cell_type": "markdown",
      "source": [
        "🔹 Generate a Random Integer with Step"
      ],
      "metadata": {
        "id": "OgUkigKkl_4Y"
      }
    },
    {
      "cell_type": "code",
      "source": [
        "random.randrange(1, 10, 2)  # Returns a number between 1 and 10 (step=2)\n"
      ],
      "metadata": {
        "id": "Igrs18zcmDVe"
      },
      "execution_count": null,
      "outputs": []
    },
    {
      "cell_type": "markdown",
      "source": [
        "🔹 Select a Random Element"
      ],
      "metadata": {
        "id": "ascz119zmGuc"
      }
    },
    {
      "cell_type": "code",
      "source": [
        "colors = [\"red\", \"blue\", \"green\"]\n",
        "random.choice(colors)  # Returns one random element\n"
      ],
      "metadata": {
        "id": "ktdCB1VmmOQd"
      },
      "execution_count": null,
      "outputs": []
    },
    {
      "cell_type": "markdown",
      "source": [
        "🔹 Shuffle a List (In-Place) working with sequences (list , tuple string)"
      ],
      "metadata": {
        "id": "4X1nL9RKmUSc"
      }
    },
    {
      "cell_type": "code",
      "source": [
        "numbers = [1, 2, 3, 4, 5]\n",
        "random.shuffle(numbers)  # Shuffles the list\n"
      ],
      "metadata": {
        "id": "eQW5qTtymVow"
      },
      "execution_count": null,
      "outputs": []
    },
    {
      "cell_type": "markdown",
      "source": [
        "###Number guessing game"
      ],
      "metadata": {
        "id": "mlF0tSn7mrPP"
      }
    },
    {
      "cell_type": "code",
      "source": [
        "# NUMBER GUESSING GAME [MAXIMUM ATTEEMPTS = 5]\n",
        "import random\n",
        "\n",
        "max_attempts = 5\n",
        "\n",
        "print(\"Guess the number between 1 and 100:\")\n",
        "jackpot = random.randint(1, 101)\n",
        "guess = int(input())\n",
        "counter = 1\n",
        "\n",
        "while guess != jackpot and counter < max_attempts:\n",
        "  if guess > jackpot :\n",
        "    print(\"Guess smaller\")\n",
        "    guess = int(input());\n",
        "    counter += 1\n",
        "  else:\n",
        "    print(\"Guess greater\")\n",
        "    guess = int(input());\n",
        "    counter += 1\n",
        "\n",
        "if counter < max_attempts:\n",
        "  print(\"Correct guess\")\n",
        "  print(\"You took\", counter, \"attempts\")\n",
        "else:\n",
        "  print(\"You lost .. You have exceeded the attempt limit.\")\n",
        "\n"
      ],
      "metadata": {
        "id": "-4zHB1ruTQLz"
      },
      "execution_count": null,
      "outputs": []
    },
    {
      "cell_type": "markdown",
      "source": [
        "#python strings\n",
        "###Python strings are one of the most fundamental data types. They are immutable sequences of [Unicode characters](https://en.wikipedia.org/wiki/List_of_Unicode_characters).\n",
        "\n",
        "###Python string is an immutable data types that means updataion in strings is not allowed in python"
      ],
      "metadata": {
        "id": "6Of3Tofymh_C"
      }
    },
    {
      "cell_type": "markdown",
      "source": [
        "##string creation ✅"
      ],
      "metadata": {
        "id": "2tOF8jG3o6wY"
      }
    },
    {
      "cell_type": "code",
      "source": [
        "s1 = 'Hello'      # Single quotes\n",
        "s2 = \"World\"      # Double quotes\n",
        "s3 = '''Multiline\n",
        "String'''        # Triple quotes (for multi-line strings)\n",
        "s4 = str(42)     # Using the str() constructor\n",
        "\n",
        "print(s1, s2)\n",
        "print(s3)\n",
        "print(s4)\n"
      ],
      "metadata": {
        "id": "0WgihEvOpAal"
      },
      "execution_count": null,
      "outputs": []
    },
    {
      "cell_type": "markdown",
      "source": [
        "##Accessing Characters in a String ⚡\n",
        "###There are two ways to access the python strings\n",
        "\n",
        "\n",
        "1.   Indexing ( positive and negative both indexing works in python. )\n",
        "2.   Slicing (Slicing allows extracting a substring from a string.)\n",
        "\n"
      ],
      "metadata": {
        "id": "38eULEGyp2fc"
      }
    },
    {
      "cell_type": "code",
      "source": [
        "# USING INDEXING\n",
        "s = \"Python\"\n",
        "print(s[0])   # 'P'\n",
        "print(s[-1])  # 'n' (last character)\n",
        "print(s[3])   # 'h'\n",
        "\n",
        "# USING SLICING\n",
        "\n",
        "s = \"PythonProgramming\"\n",
        "print(s[0:6])    # 'Python'  (0 to 5)\n",
        "print(s[:6])     # 'Python'  (Same as above)\n",
        "print(s[6:])     # 'Programming' (From index 6 to end)\n",
        "print(s[::2])    # 'PtoPormig' (Every second character)\n",
        "print(s[::-1])   # 'gnimmargorPnohtyP' (Reverse string)\n"
      ],
      "metadata": {
        "id": "ITcEIBs7qCfv"
      },
      "execution_count": null,
      "outputs": []
    },
    {
      "cell_type": "markdown",
      "source": [
        "###String Operations\n",
        "\n"
      ],
      "metadata": {
        "id": "hiFqnhtarqry"
      }
    },
    {
      "cell_type": "code",
      "source": [
        "#CONCATINATION\n",
        "\n",
        "s1 = \"Hello\"\n",
        "s2 = \"World\"\n",
        "result = s1 + \" \" + s2\n",
        "print(result)  # 'Hello World'\n",
        "\n",
        "#REPETITION\n",
        "s = \"Hello \"\n",
        "print(s * 3)  # 'Hello Hello Hello '\n",
        "\n",
        "#MEMBERSHIP OPERATOR 'in' AND 'not in'\n",
        "\n",
        "s = \"Python\"\n",
        "print('tho' in s)  # True\n",
        "print('tho' not in s)  # False\n",
        "\n"
      ],
      "metadata": {
        "colab": {
          "base_uri": "https://localhost:8080/"
        },
        "id": "w5b7n2eAr8Fp",
        "outputId": "c3acf690-edd1-4fb5-ea33-b489a0c17d03"
      },
      "execution_count": null,
      "outputs": [
        {
          "output_type": "stream",
          "name": "stdout",
          "text": [
            "Hello World\n"
          ]
        }
      ]
    },
    {
      "cell_type": "markdown",
      "source": [
        "###python built in methodes and function to modify the string"
      ],
      "metadata": {
        "id": "qA-KNc7Swigb"
      }
    },
    {
      "cell_type": "markdown",
      "source": [
        "###Changing **Case**"
      ],
      "metadata": {
        "id": "-JCVVrAOw1eG"
      }
    },
    {
      "cell_type": "code",
      "source": [
        "s = \"hello world\"\n",
        "print(s.upper())     # 'HELLO WORLD'\n",
        "print(s.lower())     # 'hello world'\n",
        "print(s.title())     # 'Hello World'\n",
        "print(s.capitalize()) # 'Hello world'\n",
        "print(s.swapcase())  # 'HELLO WORLD' -> 'hello world'\n"
      ],
      "metadata": {
        "id": "dV2_m4-EwqLl"
      },
      "execution_count": null,
      "outputs": []
    },
    {
      "cell_type": "markdown",
      "source": [
        "###Removing Spaces using (strip()) function"
      ],
      "metadata": {
        "id": "NdDETLpXxxT6"
      }
    },
    {
      "cell_type": "code",
      "source": [
        "s = \"  Hello World  \"\n",
        "print(s.strip())   # 'Hello World' (Removes leading & trailing spaces)\n",
        "print(s.lstrip())  # 'Hello World  ' (Removes left spaces)\n",
        "print(s.rstrip())  # '  Hello World' (Removes right spaces)\n"
      ],
      "metadata": {
        "id": "NljSau5rx4ou"
      },
      "execution_count": null,
      "outputs": []
    },
    {
      "cell_type": "markdown",
      "source": [
        "###Finding & Replacing"
      ],
      "metadata": {
        "id": "Ewmoa7B2yn_4"
      }
    },
    {
      "cell_type": "code",
      "source": [
        "s = \"I love Python. Python is great!\"\n",
        "print(s.find(\"Python\"))   # 7 (Returns the first occurrence index)\n",
        "print(s.rfind(\"Python\"))  # 15 (Last occurrence)\n",
        "print(s.count(\"Python\"))  # 2 (Counts occurrences)\n",
        "print(s.replace(\"Python\", \"Java\"))  # 'I love Java. Java is great!'\n"
      ],
      "metadata": {
        "id": "CsD3nrtZytpV"
      },
      "execution_count": null,
      "outputs": []
    },
    {
      "cell_type": "markdown",
      "source": [
        "###Checking String Properties"
      ],
      "metadata": {
        "id": "kxpuexXtzF_S"
      }
    },
    {
      "cell_type": "code",
      "source": [
        "s = \"Python123\"\n",
        "print(s.isalpha())  # False (Contains numbers)\n",
        "print(s.isdigit())  # False (Contains letters)\n",
        "print(s.isalnum())  # True (Letters + Numbers)\n",
        "print(s.isspace())  # False (Checks if it's only spaces)\n"
      ],
      "metadata": {
        "id": "LI6-ySa_zIik"
      },
      "execution_count": null,
      "outputs": []
    },
    {
      "cell_type": "markdown",
      "source": [
        "###Splitting & Joining Strings"
      ],
      "metadata": {
        "id": "1RRuax7fzwqO"
      }
    },
    {
      "cell_type": "code",
      "source": [
        "s = \"apple,banana,mango\"\n",
        "words = s.split(\",\")  # ['apple', 'banana', 'mango']\n",
        "print(words)\n",
        "\n",
        "s = \" \".join(words)  # 'apple banana mango'\n",
        "print(s)\n"
      ],
      "metadata": {
        "id": "J5MJvzHUzzaO"
      },
      "execution_count": null,
      "outputs": []
    },
    {
      "cell_type": "markdown",
      "source": [
        "###String Formatting"
      ],
      "metadata": {
        "id": "U-3Z3Zjn04or"
      }
    },
    {
      "cell_type": "code",
      "source": [
        "# USING f-string\n",
        "\n",
        "name = \"Alice\"\n",
        "age = 25\n",
        "print(f\"My name is {name} and I am {age} years old.\")\n",
        "\n",
        "#USING .format()\n",
        "print(\"My name is {} and I am {} years old.\".format(name, age))\n",
        "\n"
      ],
      "metadata": {
        "id": "9OIn0J-50-Rq"
      },
      "execution_count": null,
      "outputs": []
    },
    {
      "cell_type": "code",
      "source": [
        "# finding all the substring of the string using recursion\n",
        "def substr(s , curr , p):\n",
        "  if len(s) == 0:\n",
        "    p.append(curr)\n",
        "    return\n",
        "\n",
        "  #Take\n",
        "  substr(s[1:] , curr + s[0] , p)\n",
        "  #Don't take\n",
        "  substr(s[1:] , curr, p)\n",
        "\n",
        "\n",
        "s = \"abcd\"\n",
        "curr = \"\"\n",
        "p = []\n",
        "substr(s , curr , p)\n",
        "p.sort()\n",
        "print(p)"
      ],
      "metadata": {
        "id": "vn_JLH_WGeTs"
      },
      "execution_count": null,
      "outputs": []
    },
    {
      "cell_type": "markdown",
      "source": [
        "#Sets In Python\n",
        "A set in Python is an unordered, mutable collection of unique elements. It is useful for operations like eliminating duplicates and performing mathematical set operations such as union, intersection, and difference.\n",
        "\n",
        "###Features of sets\n",
        "#####✔️ Unordered (Elements have no fixed position)\n",
        "\n",
        "#####✔️ Mutable (Can be modified after creation)\n",
        "\n",
        "#####✔️ Unique Elements Only (No duplicates allowed)\n",
        "\n",
        "#####✔️ Supports Mathematical Set Operations\n"
      ],
      "metadata": {
        "id": "2JqB3B0AZdOG"
      }
    },
    {
      "cell_type": "markdown",
      "source": [
        "🔹 Creating a Set\n",
        "\\\n",
        "You can create a set using curly braces {} or the set() function."
      ],
      "metadata": {
        "id": "kZcwGtGrb7xB"
      }
    },
    {
      "cell_type": "code",
      "source": [
        "# Creating sets\n",
        "fruits = {\"apple\", \"banana\", \"cherry\"}\n",
        "numbers = {1, 2, 3, 4, 5}\n",
        "\n",
        "# Using set() function\n",
        "empty_set = set()  # Creates an empty set\n",
        "duplicate_values = {1, 2, 2, 3, 4, 4, 5}  # Duplicates are removed\n",
        "\n",
        "print(fruits)  # Output: {'banana', 'cherry', 'apple'}\n",
        "print(numbers)  # Output: {1, 2, 3, 4, 5}\n",
        "print(empty_set)  # Output: set()\n",
        "print(duplicate_values)  # Output: {1, 2, 3, 4, 5}\n"
      ],
      "metadata": {
        "id": "LJBhHgM2bqAo"
      },
      "execution_count": null,
      "outputs": []
    },
    {
      "cell_type": "markdown",
      "source": [
        "#🔹 Accessing Elements in a Set\n",
        "Sets do not support indexing or slicing because they are unordered.\n",
        "However, you can check for element existence using the **in** keyword."
      ],
      "metadata": {
        "id": "1zxv-2ode7Pw"
      }
    },
    {
      "cell_type": "code",
      "source": [
        "my_set = {10, 20, 30, 40}\n",
        "\n",
        "# Checking if an element exists\n",
        "print(20 in my_set)  # Output: True\n",
        "print(50 in my_set)  # Output: False\n"
      ],
      "metadata": {
        "id": "dsHffcrSfT5M"
      },
      "execution_count": null,
      "outputs": []
    },
    {
      "cell_type": "markdown",
      "source": [
        "##🔹 Adding & Removing Elements in a Set\n",
        "Use .add() to insert a single element and .update() to add multiple\n",
        "\n",
        "1.  Use .add() to insert a single element and .update() to add multiple\n",
        "2.  You can remove elements using .remove(), .discard(), and .pop().\n",
        "\n",
        "elements.\n",
        "\n"
      ],
      "metadata": {
        "id": "h4kRzWOtf4cI"
      }
    },
    {
      "cell_type": "code",
      "source": [
        "numbers = {1, 2, 3}\n",
        "numbers.add(4)  # Adding a single element\n",
        "numbers.update([5, 6, 7])  # Adding multiple elements\n",
        "\n",
        "print(numbers)  # Output: {1, 2, 3, 4, 5, 6, 7}\n"
      ],
      "metadata": {
        "id": "S_U-9lT5gVCq"
      },
      "execution_count": null,
      "outputs": []
    },
    {
      "cell_type": "code",
      "source": [
        "fruits = {\"apple\", \"banana\", \"cherry\"}\n",
        "\n",
        "fruits.remove(\"banana\")  # Removes 'banana'\n",
        "# fruits.remove(\"mango\")  # ❌ Error if 'mango' is not present\n",
        "\n",
        "fruits.discard(\"mango\")  # ✅ No error if element is not present\n",
        "\n",
        "popped = fruits.pop()  # Removes a random element\n",
        "print(\"Popped Element:\", popped)\n",
        "\n",
        "print(fruits)  # Output: {'apple', 'cherry'}\n"
      ],
      "metadata": {
        "id": "rao_W56ggeV5"
      },
      "execution_count": null,
      "outputs": []
    },
    {
      "cell_type": "markdown",
      "source": [
        "#🔹 Set Operations\n",
        "\n",
        "\n",
        "1.   Union (| or .union()) => Combines elements from both sets (removes duplicates).\n",
        "2.   Intersection (& or .intersection()) => Finds common elements between sets.\n",
        "3.   Difference (- or .difference()) => Finds elements present in the first set but not in the second.\n",
        "4.   Symmetric Difference (^ or .symmetric_difference()) => Finds elements that are in either set, but not both.\n",
        "5.   Subset (<=) => Checks if all elements of one set are in another.\n",
        "6.   Superset (>=) => Checks if a set contains all elements of another.\n",
        "\n",
        "\n",
        "\n",
        "\n"
      ],
      "metadata": {
        "id": "MscEh_D-pjdy"
      }
    },
    {
      "cell_type": "code",
      "source": [
        "set1 = {1,2,3,4,5}\n",
        "set2 = {4,5,6,7,8}\n",
        "\n",
        "#Union\n",
        "print(set1 | set2)\n",
        "print(set1.union(set2)) #another way of union\n",
        "\n",
        "#Intersection\n",
        "print(set1 & set2)\n",
        "print(set1.intersection(set2)) #another way of intersection\n",
        "\n",
        "#Difference\n",
        "print(set1 - set2)\n",
        "print(set1.difference(set2)) #another way of difference\n",
        "\n",
        "#Symmetric Difference\n",
        "print(set1 ^ set2)\n",
        "print(set1.symmetric_difference(set2)) #another way of symmetric difference\n",
        "\n",
        "#Checking for subset\n",
        "print(set1 <= set2)\n",
        "print(set1.issubset(set2)) #another way of checking for subset\n",
        "\n",
        "#Checking for superset\n",
        "print(set1 >= set2)\n",
        "print(set1.issuperset(set2))"
      ],
      "metadata": {
        "id": "jHz7QO2gqQQ7"
      },
      "execution_count": null,
      "outputs": []
    },
    {
      "cell_type": "markdown",
      "source": [
        "##🔹 Frozen Set (Immutable Set)\n",
        "A frozenset is an immutable version of a set."
      ],
      "metadata": {
        "id": "9WWiPMCBrsqc"
      }
    },
    {
      "cell_type": "code",
      "source": [
        "normal_set = {1, 2, 3}\n",
        "frozen_set = frozenset(normal_set)\n",
        "\n",
        "# frozen_set.add(4)  ❌ Error: Cannot modify a frozenset\n",
        "\n",
        "print(frozen_set)  # Output: frozenset({1, 2, 3})\n"
      ],
      "metadata": {
        "colab": {
          "base_uri": "https://localhost:8080/"
        },
        "id": "kuNmNYfFqvYJ",
        "outputId": "672d152b-1989-4669-8cda-701b9780b14a"
      },
      "execution_count": 11,
      "outputs": [
        {
          "output_type": "stream",
          "name": "stdout",
          "text": [
            "frozenset({1, 2, 3})\n"
          ]
        }
      ]
    }
  ]
}